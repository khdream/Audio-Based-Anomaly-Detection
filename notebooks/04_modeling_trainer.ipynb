{
 "cells": [
  {
   "cell_type": "code",
   "execution_count": 1,
   "metadata": {},
   "outputs": [],
   "source": [
    "import os"
   ]
  },
  {
   "cell_type": "code",
   "execution_count": 2,
   "metadata": {},
   "outputs": [
    {
     "data": {
      "text/plain": [
       "'c:\\\\Users\\\\Jaison\\\\Documents\\\\Workspace\\\\Main Projects\\\\Audio-Based-Anomaly-Detection-for-Industrial-Machinery-End-to-End-Project-using-MLflow-DVC\\\\notebooks'"
      ]
     },
     "execution_count": 2,
     "metadata": {},
     "output_type": "execute_result"
    }
   ],
   "source": [
    "%pwd\n"
   ]
  },
  {
   "cell_type": "code",
   "execution_count": 3,
   "metadata": {},
   "outputs": [
    {
     "data": {
      "text/plain": [
       "'c:\\\\Users\\\\Jaison\\\\Documents\\\\Workspace\\\\Main Projects\\\\Audio-Based-Anomaly-Detection-for-Industrial-Machinery-End-to-End-Project-using-MLflow-DVC'"
      ]
     },
     "execution_count": 3,
     "metadata": {},
     "output_type": "execute_result"
    }
   ],
   "source": [
    "os.chdir(\"../\")\n",
    "%pwd"
   ]
  },
  {
   "cell_type": "markdown",
   "metadata": {},
   "source": [
    "## Entity"
   ]
  },
  {
   "cell_type": "code",
   "execution_count": 31,
   "metadata": {},
   "outputs": [],
   "source": [
    "from dataclasses import dataclass\n",
    "from pathlib import Path\n",
    "\n",
    "\n",
    "@dataclass(frozen=True)\n",
    "class TrainingConfig:\n",
    "    root_dir: Path\n",
    "    trained_model_path: Path\n",
    "    normal_features_path: Path\n",
    "    abnormal_features_path: Path\n",
    "    feature_names_path: Path\n",
    "    feature_importance_path: Path\n",
    "    params_epochs: int\n",
    "    params_batch_size: int\n",
    "    params_feature_count: int"
   ]
  },
  {
   "cell_type": "code",
   "execution_count": 32,
   "metadata": {},
   "outputs": [],
   "source": [
    "from dataclasses import dataclass\n",
    "from pathlib import Path\n",
    "\n",
    "\n",
    "@dataclass(frozen=True)\n",
    "class TrainingConfig:\n",
    "    root_dir: Path\n",
    "    trained_model_path: Path\n",
    "    normal_features_path: Path\n",
    "    abnormal_features_path: Path\n",
    "    feature_names_path: Path\n",
    "    feature_importance_path: Path\n",
    "    params_epochs: int\n",
    "    params_batch_size: int\n",
    "    params_feature_count: int\n"
   ]
  },
  {
   "cell_type": "markdown",
   "metadata": {},
   "source": [
    "##Config"
   ]
  },
  {
   "cell_type": "code",
   "execution_count": 33,
   "metadata": {},
   "outputs": [],
   "source": [
    "from Anomaly_Detection.constants import *\n",
    "from Anomaly_Detection.utils.common import read_yaml, create_directories,save_bin,load_bin"
   ]
  },
  {
   "cell_type": "code",
   "execution_count": 35,
   "metadata": {},
   "outputs": [],
   "source": [
    "\n",
    "class ConfigurationManager:\n",
    "    def __init__(\n",
    "        self,\n",
    "        config_filepath = CONFIG_FILE_PATH,\n",
    "        params_filepath = PARAMS_FILE_PATH):\n",
    "\n",
    "        self.config = read_yaml(config_filepath)\n",
    "        self.params = read_yaml(params_filepath)\n",
    "\n",
    "        create_directories([self.config.artifacts_root])\n",
    "\n",
    "\n",
    "    def get_training_config(self) -> TrainingConfig:\n",
    "        training = self.config.training\n",
    "        params = self.params.training\n",
    "        create_directories([\n",
    "            Path(training.root_dir)\n",
    "        ])\n",
    "\n",
    "        training_config  = TrainingConfig(\n",
    "            root_dir=Path(training.root_dir),\n",
    "            trained_model_path=Path(training.trained_model_path),\n",
    "            normal_features_path=Path(training.normal_features_path),\n",
    "            abnormal_features_path=Path(training.abnormal_features_path),\n",
    "            feature_names_path=Path(training.feature_names_path),\n",
    "            feature_importance_path=Path(training.feature_importance_path),\n",
    "            params_epochs=params.EPOCHS,\n",
    "            params_batch_size=params.BATCH_SIZE,\n",
    "            params_feature_count=params.FEATURE_COUNT\n",
    "            \n",
    "        )\n",
    "\n",
    "        return training_config"
   ]
  },
  {
   "cell_type": "markdown",
   "metadata": {},
   "source": [
    "## Component"
   ]
  },
  {
   "cell_type": "code",
   "execution_count": 36,
   "metadata": {},
   "outputs": [],
   "source": [
    "import os\n",
    "import urllib.request as request\n",
    "import tensorflow as tf\n",
    "\n",
    "from Anomaly_Detection import logger\n",
    "from Anomaly_Detection.utils.common import get_size\n",
    "import pandas as pd\n",
    "\n",
    "import numpy as np\n",
    "import librosa\n",
    "import os\n",
    "import joblib\n",
    "from sklearn.model_selection import train_test_split"
   ]
  },
  {
   "cell_type": "code",
   "execution_count": 37,
   "metadata": {},
   "outputs": [],
   "source": [
    "from sklearn.model_selection import StratifiedKFold\n",
    "from scipy.stats import ttest_ind\n",
    "from tensorflow.keras import layers, models\n",
    "from tensorflow.keras.models import Sequential\n",
    "from tensorflow.keras.layers import Dense, Dropout, Input, BatchNormalization\n",
    "from sklearn.metrics import accuracy_score, precision_score, recall_score, f1_score, roc_auc_score, confusion_matrix, precision_recall_curve\n",
    "from tensorflow.keras.callbacks import EarlyStopping\n",
    "from tensorflow.keras.models import Model\n",
    "from sklearn.model_selection import train_test_split\n",
    "from sklearn.preprocessing import StandardScaler\n",
    "\n"
   ]
  },
  {
   "cell_type": "code",
   "execution_count": 51,
   "metadata": {},
   "outputs": [],
   "source": [
    "class Training:\n",
    "    def __init__(self, config: TrainingConfig):\n",
    "        self.config = config\n",
    "\n",
    "    def enhanced_autoencoder(self,input_dim):\n",
    "        input_layer = Input(shape=(input_dim,))\n",
    "\n",
    "        # Encoder\n",
    "        encoder = Dense(128, activation='relu')(input_layer)\n",
    "        encoder = BatchNormalization()(encoder)\n",
    "        encoder = Dropout(0.1)(encoder)\n",
    "        encoder = Dense(64, activation='relu')(encoder)\n",
    "        encoder = BatchNormalization()(encoder)\n",
    "        encoder = Dropout(0.1)(encoder)\n",
    "        encoder = Dense(32, activation='relu')(encoder)\n",
    "\n",
    "        # Decoder\n",
    "        decoder = Dense(64, activation='relu')(encoder)\n",
    "        decoder = BatchNormalization()(decoder)\n",
    "        decoder = Dropout(0.1)(decoder)\n",
    "        decoder = Dense(128, activation='relu')(decoder)\n",
    "        decoder = BatchNormalization()(decoder)\n",
    "        decoder = Dropout(0.1)(decoder)\n",
    "        output_layer = Dense(input_dim, activation='sigmoid')(decoder)\n",
    "\n",
    "        autoencoder = Model(inputs=input_layer, outputs=output_layer)\n",
    "        autoencoder.compile(optimizer='adam', loss='mean_squared_error')\n",
    "        return autoencoder\n",
    "    \n",
    "    def model_training(self,X_train_scaled, X_val_scaled):\n",
    "        # Adjusting input_dim based on your feature dimensions\n",
    "        input_dim = X_train_scaled.shape[1]\n",
    "        autoencoder = self.enhanced_autoencoder(input_dim)\n",
    "        early_stopping = EarlyStopping(monitor='val_loss', patience=5, restore_best_weights=True)\n",
    "        autoencoder.fit(\n",
    "            X_train_scaled, X_train_scaled,\n",
    "            epochs=400,  # Increase epochs if necessary\n",
    "            batch_size=256,\n",
    "            shuffle=True,\n",
    "            validation_data=(X_val_scaled, X_val_scaled),\n",
    "            callbacks=[early_stopping],\n",
    "            verbose=0\n",
    "            )\n",
    "        return autoencoder\n",
    "\n",
    "    def feature_importance(self,autoencoder, X_combined_test):\n",
    "        # Predict the reconstructed sounds for the combined test set\n",
    "        reconstructed_combined = autoencoder.predict(X_combined_test)\n",
    "\n",
    "        # Calculate the mean squared reconstruction error for each feature\n",
    "        mse_features = np.mean(np.power(X_combined_test - reconstructed_combined, 2), axis=0)\n",
    "\n",
    "        # Rank features by reconstruction error\n",
    "        feature_importance_ranking = np.argsort(mse_features)[::-1]  # Features with the highest error first\n",
    "        logger.info(f\"feature_importance_ranking: {feature_importance_ranking}\")\n",
    "        return feature_importance_ranking\n",
    "    \n",
    "    def model_evaluation(self,autoencoder,X_combined_test, y_combined_test):\n",
    "        reconstructed_combined = autoencoder.predict(X_combined_test)\n",
    "        mse_combined = np.mean(np.power(X_combined_test - reconstructed_combined, 2), axis=1)\n",
    "        precisions, recalls, thresholds = precision_recall_curve(y_combined_test, mse_combined)\n",
    "        # Calculate precision-recall curve\n",
    "        precisions, recalls, thresholds = precision_recall_curve(y_combined_test, mse_combined)\n",
    "\n",
    "        # Calculate F1 score for each threshold\n",
    "        f1_scores = 2 * (precisions * recalls) / (precisions + recalls)\n",
    "        optimal_idx = np.argmax(f1_scores)\n",
    "        optimal_threshold = thresholds[optimal_idx]\n",
    "\n",
    "        # Use the optimal threshold to define anomalies\n",
    "        optimal_predictions = (mse_combined > optimal_threshold).astype(int)\n",
    "\n",
    "        # Calculate metrics using the optimal threshold\n",
    "        optimal_accuracy = accuracy_score(y_combined_test, optimal_predictions)\n",
    "        optimal_precision = precision_score(y_combined_test, optimal_predictions)\n",
    "        optimal_recall = recall_score(y_combined_test, optimal_predictions)\n",
    "        optimal_f1 = f1_score(y_combined_test, optimal_predictions)\n",
    "        optimal_cm = confusion_matrix(y_combined_test, optimal_predictions)\n",
    "        # Print metrics using the optimal threshold\n",
    "        logger.info(f\"Optimal Threshold: {optimal_threshold}\")\n",
    "        logger.info(f\"Accuracy: {optimal_accuracy}\")\n",
    "        logger.info(f\"Precision: {optimal_precision}\")\n",
    "        logger.info(f\"Recall: {optimal_recall}\")\n",
    "        logger.info(f\"F1 Score: {optimal_f1}\")\n",
    "        logger.info(f\"confusion_matrix: {optimal_cm}\")\n",
    "\n",
    "    \n",
    "    def feature_selection(self, N, feature_importance_ranking, feature_names):\n",
    "        top_features_indices = feature_importance_ranking[:N]\n",
    "        top_features=[]\n",
    "        for rank in feature_importance_ranking[:N]:\n",
    "            top_features.append(feature_names[rank])\n",
    "\n",
    "        return top_features,top_features_indices\n",
    "\n",
    "    def train_test_spliting(self,top_features_indices):\n",
    "\n",
    "        # Load normal_features.pkl\n",
    "        normal_features = joblib.load(self.config.normal_features_path)\n",
    "        logger.info(f\"Loaded normal features {normal_features.shape}.\")\n",
    "        # Load abnormal_features.pkl\n",
    "        abnormal_features = joblib.load(self.config.abnormal_features_path)\n",
    "        logger.info(f\"Loaded abnormal features {abnormal_features.shape}.\")\n",
    "        \n",
    "        # Subset the features for both normal and abnormal data\n",
    "        normal_features = normal_features[:, top_features_indices]\n",
    "        abnormal_features = abnormal_features[:, top_features_indices]\n",
    "\n",
    "        X_train, X_val = train_test_split(normal_features, test_size=0.2, random_state=42)\n",
    "        X_test = abnormal_features\n",
    "        scaler = StandardScaler()\n",
    "        # Fit the scaler on the training data and transform both training, validation, and test sets\n",
    "        X_train_scaled = scaler.fit_transform(X_train)\n",
    "        X_val_scaled = scaler.transform(X_val)\n",
    "        X_test_scaled = scaler.transform(X_test)\n",
    "        # Combine normal and abnormal data\n",
    "        X_combined_test = np.concatenate((X_val_scaled, X_test_scaled))\n",
    "        y_combined_test = np.concatenate((np.zeros(len(X_val_scaled)), np.ones(len(X_test_scaled))))  # 0 for normal, 1 for abnormal\n",
    "\n",
    "        joblib.dump(X_train_scaled,(os.path.join(self.config.root_dir, \"X_train_scaled.pkl\")))\n",
    "        joblib.dump(X_val_scaled,(os.path.join(self.config.root_dir, \"X_val_scaled.pkl\")))\n",
    "        joblib.dump(X_combined_test,(os.path.join(self.config.root_dir, \"X_combined_test.pkl\")))\n",
    "        joblib.dump(y_combined_test,(os.path.join(self.config.root_dir, \"y_combined_test.pkl\")))\n",
    "        \n",
    "        logger.info(\"Splited data into training and test sets\")\n",
    "        logger.info(f\"Saved X_train_scaled {X_train_scaled.shape} into file.\")\n",
    "        logger.info(f\"Saved X_train_scaled {X_val_scaled.shape} into file.\")\n",
    "        logger.info(f\"Saved X_combined_test {X_combined_test.shape} into file.\")\n",
    "        logger.info(f\"Saved y_combined_test {y_combined_test.shape} into file.\")\n",
    "        return X_train_scaled,X_val_scaled,X_combined_test,y_combined_test\n",
    "\n",
    "    def train(self):\n",
    "        logger.info(f\"Starting Model Building\")\n",
    "        feature_names = joblib.load(self.config.feature_names_path)\n",
    "        abnormal_features_path = joblib.load(self.config.abnormal_features_path)\n",
    "        normal_features_path = joblib.load(self.config.normal_features_path)\n",
    "        n = self.config.params_feature_count\n",
    "        feature_importance_ranking= joblib.load(self.config.feature_importance_path)\n",
    "        \n",
    "        top_features,top_features_indices = self.feature_selection(n, feature_importance_ranking, feature_names)\n",
    "        X_train_scaled,X_val_scaled,X_combined_test,y_combined_test=self.train_test_spliting(top_features_indices)\n",
    "        \n",
    "        autoencoder = self.model_training(X_train_scaled, X_val_scaled)\n",
    "        self.model_evaluation(autoencoder,X_combined_test, y_combined_test)\n",
    "        feature_importance_ranking = self.feature_importance(autoencoder,X_combined_test)\n",
    "\n",
    "        joblib.dump(autoencoder,(os.path.join(self.config.root_dir, \"autoencoder.pkl\")))\n",
    "        joblib.dump(feature_importance_ranking,(os.path.join(self.config.root_dir, \"updated_feature_importance_ranking.pkl\")))\n",
    "        autoencoder.save((os.path.join(self.config.root_dir, 'Encoder_Model.keras')))        \n"
   ]
  },
  {
   "cell_type": "markdown",
   "metadata": {},
   "source": [
    "## Pipeline"
   ]
  },
  {
   "cell_type": "code",
   "execution_count": 52,
   "metadata": {},
   "outputs": [
    {
     "name": "stdout",
     "output_type": "stream",
     "text": [
      "[2023-12-03 11:10:36,596: INFO: common: yaml file: config\\config.yaml loaded successfully]\n",
      "[2023-12-03 11:10:36,609: INFO: common: yaml file: params.yaml loaded successfully]\n",
      "[2023-12-03 11:10:36,613: INFO: common: created directory at: artifacts]\n",
      "[2023-12-03 11:10:36,618: INFO: common: created directory at: artifacts\\training]\n",
      "[2023-12-03 11:10:36,623: INFO: 3476346288: Starting Model Building]\n",
      "[2023-12-03 11:10:36,635: INFO: 3476346288: Loaded normal features (381, 23).]\n",
      "[2023-12-03 11:10:36,643: INFO: 3476346288: Loaded abnormal features (138, 23).]\n",
      "[2023-12-03 11:10:36,668: INFO: 3476346288: Splited data into training and test sets]\n",
      "[2023-12-03 11:10:36,673: INFO: 3476346288: Saved X_train_scaled (304, 5) into file.]\n",
      "[2023-12-03 11:10:36,678: INFO: 3476346288: Saved X_train_scaled (77, 5) into file.]\n",
      "[2023-12-03 11:10:36,682: INFO: 3476346288: Saved X_combined_test (215, 5) into file.]\n",
      "[2023-12-03 11:10:36,687: INFO: 3476346288: Saved y_combined_test (215,) into file.]\n"
     ]
    },
    {
     "name": "stdout",
     "output_type": "stream",
     "text": [
      "7/7 [==============================] - 0s 4ms/step\n",
      "[2023-12-03 11:11:01,650: INFO: 3476346288: Optimal Threshold: 1.2570316070644278]\n",
      "[2023-12-03 11:11:01,656: INFO: 3476346288: Accuracy: 0.9488372093023256]\n",
      "[2023-12-03 11:11:01,661: INFO: 3476346288: Precision: 0.9847328244274809]\n",
      "[2023-12-03 11:11:01,665: INFO: 3476346288: Recall: 0.9347826086956522]\n",
      "[2023-12-03 11:11:01,672: INFO: 3476346288: F1 Score: 0.9591078066914499]\n",
      "[2023-12-03 11:11:01,676: INFO: 3476346288: confusion_matrix: [[ 75   2]\n",
      " [  9 129]]]\n",
      "7/7 [==============================] - 0s 4ms/step\n",
      "[2023-12-03 11:11:01,925: INFO: 3476346288: feature_importance_ranking: [0 1 4 3 2]]\n"
     ]
    }
   ],
   "source": [
    "try:\n",
    "    config = ConfigurationManager()\n",
    "    training_config = config.get_training_config()\n",
    "    prepare_base_model = Training(config=training_config)\n",
    "    prepare_base_model.train()\n",
    "\n",
    "except Exception as e:\n",
    "    raise e\n"
   ]
  },
  {
   "cell_type": "code",
   "execution_count": null,
   "metadata": {},
   "outputs": [],
   "source": []
  },
  {
   "cell_type": "markdown",
   "metadata": {},
   "source": []
  }
 ],
 "metadata": {
  "kernelspec": {
   "display_name": "audio",
   "language": "python",
   "name": "python3"
  },
  "language_info": {
   "codemirror_mode": {
    "name": "ipython",
    "version": 3
   },
   "file_extension": ".py",
   "mimetype": "text/x-python",
   "name": "python",
   "nbconvert_exporter": "python",
   "pygments_lexer": "ipython3",
   "version": "3.8.18"
  },
  "orig_nbformat": 4
 },
 "nbformat": 4,
 "nbformat_minor": 2
}
