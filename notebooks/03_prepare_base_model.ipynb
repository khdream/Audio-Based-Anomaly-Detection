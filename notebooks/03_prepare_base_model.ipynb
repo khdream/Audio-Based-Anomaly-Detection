{
 "cells": [
  {
   "cell_type": "code",
   "execution_count": 1,
   "metadata": {},
   "outputs": [],
   "source": [
    "import os"
   ]
  },
  {
   "cell_type": "code",
   "execution_count": 2,
   "metadata": {},
   "outputs": [
    {
     "data": {
      "text/plain": [
       "'c:\\\\Users\\\\Jaison\\\\Documents\\\\Workspace\\\\Main Projects\\\\Audio-Based-Anomaly-Detection-for-Industrial-Machinery-End-to-End-Project-using-MLflow-DVC\\\\notebooks'"
      ]
     },
     "execution_count": 2,
     "metadata": {},
     "output_type": "execute_result"
    }
   ],
   "source": [
    "%pwd\n"
   ]
  },
  {
   "cell_type": "code",
   "execution_count": 3,
   "metadata": {},
   "outputs": [
    {
     "data": {
      "text/plain": [
       "'c:\\\\Users\\\\Jaison\\\\Documents\\\\Workspace\\\\Main Projects\\\\Audio-Based-Anomaly-Detection-for-Industrial-Machinery-End-to-End-Project-using-MLflow-DVC'"
      ]
     },
     "execution_count": 3,
     "metadata": {},
     "output_type": "execute_result"
    }
   ],
   "source": [
    "os.chdir(\"../\")\n",
    "%pwd"
   ]
  },
  {
   "cell_type": "markdown",
   "metadata": {},
   "source": [
    "## Entity"
   ]
  },
  {
   "cell_type": "code",
   "execution_count": 10,
   "metadata": {},
   "outputs": [],
   "source": [
    "from dataclasses import dataclass\n",
    "from pathlib import Path\n",
    "\n",
    "\n",
    "@dataclass(frozen=True)\n",
    "class PrepareBaseModelConfig:\n",
    "    root_dir: Path\n",
    "    feature_names_path: Path\n",
    "    X_train_scaled_path: Path\n",
    "    X_val_path: Path\n",
    "    X_combined_test_path: Path\n",
    "    y_combined_test_path: Path\n",
    "    base_model_path: Path\n",
    "    feature_importance_path: Path\n"
   ]
  },
  {
   "cell_type": "markdown",
   "metadata": {},
   "source": [
    "##Config"
   ]
  },
  {
   "cell_type": "code",
   "execution_count": 4,
   "metadata": {},
   "outputs": [],
   "source": [
    "from Anomaly_Detection.constants import *\n",
    "from Anomaly_Detection.utils.common import read_yaml, create_directories,save_bin,load_bin"
   ]
  },
  {
   "cell_type": "code",
   "execution_count": 11,
   "metadata": {},
   "outputs": [],
   "source": [
    "\n",
    "class ConfigurationManager:\n",
    "    def __init__(\n",
    "        self,\n",
    "        config_filepath = CONFIG_FILE_PATH,\n",
    "        params_filepath = PARAMS_FILE_PATH):\n",
    "\n",
    "        self.config = read_yaml(config_filepath)\n",
    "        self.params = read_yaml(params_filepath)\n",
    "\n",
    "        create_directories([self.config.artifacts_root])\n",
    "\n",
    "\n",
    "    def get_prepare_base_model_config(self) -> PrepareBaseModelConfig:\n",
    "        config = self.config.prepare_base_model\n",
    "        \n",
    "        create_directories([config.root_dir])\n",
    "\n",
    "        prepare_base_model_config = PrepareBaseModelConfig(\n",
    "            root_dir=Path(config.root_dir),\n",
    "            base_model_path=Path(config.base_model_path),\n",
    "            feature_names_path=Path(config.feature_names_path),\n",
    "            X_train_scaled_path=Path(config.X_train_scaled_path),\n",
    "            X_val_path=Path(config.X_val_path),\n",
    "            X_combined_test_path=Path(config.X_combined_test_path),\n",
    "            y_combined_test_path=Path(config.y_combined_test_path),\n",
    "            feature_importance_path=Path(config.feature_importance_path)\n",
    "            \n",
    "        )\n",
    "\n",
    "        return prepare_base_model_config"
   ]
  },
  {
   "cell_type": "markdown",
   "metadata": {},
   "source": [
    "## Component"
   ]
  },
  {
   "cell_type": "code",
   "execution_count": 12,
   "metadata": {},
   "outputs": [],
   "source": [
    "import os\n",
    "import urllib.request as request\n",
    "import tensorflow as tf\n",
    "\n",
    "from Anomaly_Detection import logger\n",
    "from Anomaly_Detection.utils.common import get_size\n",
    "import pandas as pd\n",
    "\n",
    "import numpy as np\n",
    "import librosa\n",
    "import os\n",
    "import joblib\n",
    "from sklearn.model_selection import train_test_split"
   ]
  },
  {
   "cell_type": "code",
   "execution_count": 16,
   "metadata": {},
   "outputs": [],
   "source": [
    "from sklearn.model_selection import StratifiedKFold\n",
    "from scipy.stats import ttest_ind\n",
    "from tensorflow.keras import layers, models\n",
    "from tensorflow.keras.models import Sequential\n",
    "from tensorflow.keras.layers import Dense, Dropout, Input, BatchNormalization\n",
    "from sklearn.metrics import accuracy_score, precision_score, recall_score, f1_score, roc_auc_score, confusion_matrix, precision_recall_curve\n",
    "from tensorflow.keras.callbacks import EarlyStopping\n",
    "from tensorflow.keras.models import Model\n",
    "\n"
   ]
  },
  {
   "cell_type": "code",
   "execution_count": 22,
   "metadata": {},
   "outputs": [],
   "source": [
    "class PrepareBaseModel:\n",
    "    def __init__(self, config: PrepareBaseModelConfig):\n",
    "        self.config = config\n",
    "\n",
    "    def enhanced_autoencoder(self,input_dim):\n",
    "        input_layer = Input(shape=(input_dim,))\n",
    "\n",
    "        # Encoder\n",
    "        encoder = Dense(128, activation='relu')(input_layer)\n",
    "        encoder = BatchNormalization()(encoder)\n",
    "        encoder = Dropout(0.1)(encoder)\n",
    "        encoder = Dense(64, activation='relu')(encoder)\n",
    "        encoder = BatchNormalization()(encoder)\n",
    "        encoder = Dropout(0.1)(encoder)\n",
    "        encoder = Dense(32, activation='relu')(encoder)\n",
    "\n",
    "        # Decoder\n",
    "        decoder = Dense(64, activation='relu')(encoder)\n",
    "        decoder = BatchNormalization()(decoder)\n",
    "        decoder = Dropout(0.1)(decoder)\n",
    "        decoder = Dense(128, activation='relu')(decoder)\n",
    "        decoder = BatchNormalization()(decoder)\n",
    "        decoder = Dropout(0.1)(decoder)\n",
    "        output_layer = Dense(input_dim, activation='sigmoid')(decoder)\n",
    "\n",
    "        autoencoder = Model(inputs=input_layer, outputs=output_layer)\n",
    "        autoencoder.compile(optimizer='adam', loss='mean_squared_error')\n",
    "        return autoencoder\n",
    "    \n",
    "    def model_training(self,X_train_scaled, X_val_scaled):\n",
    "        # Adjusting input_dim based on your feature dimensions\n",
    "        input_dim = X_train_scaled.shape[1]\n",
    "        autoencoder = self.enhanced_autoencoder(input_dim)\n",
    "        early_stopping = EarlyStopping(monitor='val_loss', patience=5, restore_best_weights=True)\n",
    "        autoencoder.fit(\n",
    "            X_train_scaled, X_train_scaled,\n",
    "            epochs=400,  # Increase epochs if necessary\n",
    "            batch_size=256,\n",
    "            shuffle=True,\n",
    "            validation_data=(X_val_scaled, X_val_scaled),\n",
    "            callbacks=[early_stopping],\n",
    "            verbose=0\n",
    "            )\n",
    "        return autoencoder\n",
    "\n",
    "    \n",
    "\n",
    "    def model_evaluation(self,autoencoder,X_combined_test, y_combined_test):\n",
    "        reconstructed_combined = autoencoder.predict(X_combined_test)\n",
    "        mse_combined = np.mean(np.power(X_combined_test - reconstructed_combined, 2), axis=1)\n",
    "        precisions, recalls, thresholds = precision_recall_curve(y_combined_test, mse_combined)\n",
    "        # Calculate precision-recall curve\n",
    "        precisions, recalls, thresholds = precision_recall_curve(y_combined_test, mse_combined)\n",
    "\n",
    "        # Calculate F1 score for each threshold\n",
    "        f1_scores = 2 * (precisions * recalls) / (precisions + recalls)\n",
    "        optimal_idx = np.argmax(f1_scores)\n",
    "        optimal_threshold = thresholds[optimal_idx]\n",
    "\n",
    "        # Use the optimal threshold to define anomalies\n",
    "        optimal_predictions = (mse_combined > optimal_threshold).astype(int)\n",
    "\n",
    "        # Calculate metrics using the optimal threshold\n",
    "        optimal_accuracy = accuracy_score(y_combined_test, optimal_predictions)\n",
    "        optimal_precision = precision_score(y_combined_test, optimal_predictions)\n",
    "        optimal_recall = recall_score(y_combined_test, optimal_predictions)\n",
    "        optimal_f1 = f1_score(y_combined_test, optimal_predictions)\n",
    "        optimal_cm = confusion_matrix(y_combined_test, optimal_predictions)\n",
    "        # Print metrics using the optimal threshold\n",
    "        logger.info(f\"Optimal Threshold: {optimal_threshold}\")\n",
    "        logger.info(f\"Accuracy: {optimal_accuracy}\")\n",
    "        logger.info(f\"Precision: {optimal_precision}\")\n",
    "        logger.info(f\"Recall: {optimal_recall}\")\n",
    "        logger.info(f\"F1 Score: {optimal_f1}\")\n",
    "        logger.info(f\"confusion_matrix: {optimal_cm}\")\n",
    "\n",
    "\n",
    "    def feature_importance(self,autoencoder, X_combined_test):\n",
    "        # Predict the reconstructed sounds for the combined test set\n",
    "        reconstructed_combined = autoencoder.predict(X_combined_test)\n",
    "\n",
    "        # Calculate the mean squared reconstruction error for each feature\n",
    "        mse_features = np.mean(np.power(X_combined_test - reconstructed_combined, 2), axis=0)\n",
    "\n",
    "        # Rank features by reconstruction error\n",
    "        feature_importance_ranking = np.argsort(mse_features)[::-1]  # Features with the highest error first\n",
    "        logger.info(f\"feature_importance_ranking: {feature_importance_ranking}\")\n",
    "        return feature_importance_ranking\n",
    "    \n",
    "    def buiding_base_model(self):\n",
    "        logger.info(f\"Starting Building Base Model\")\n",
    "        feature_names = joblib.load(self.config.feature_names_path)\n",
    "        X_train_scaled = joblib.load(self.config.X_train_scaled_path)\n",
    "        X_val_scaled = joblib.load(self.config.X_val_path)\n",
    "        X_combined_test = joblib.load(self.config.X_combined_test_path)\n",
    "        y_combined_test = joblib.load(self.config.y_combined_test_path)\n",
    "        \n",
    "        autoencoder = self.model_training(X_train_scaled, X_val_scaled)\n",
    "        self.model_evaluation(autoencoder,X_combined_test, y_combined_test)\n",
    "        feature_importance_ranking = self.feature_importance(autoencoder,X_combined_test)\n",
    "\n",
    "        joblib.dump(autoencoder,(os.path.join(self.config.root_dir, \"autoencoder.pkl\")))\n",
    "        joblib.dump(feature_importance_ranking,(os.path.join(self.config.root_dir, \"feature_importance_ranking.pkl\")))\n",
    "        autoencoder.save((os.path.join(self.config.root_dir, 'Encoder_Model.keras')))        \n"
   ]
  },
  {
   "cell_type": "markdown",
   "metadata": {},
   "source": [
    "## Pipeline"
   ]
  },
  {
   "cell_type": "code",
   "execution_count": 23,
   "metadata": {},
   "outputs": [
    {
     "name": "stdout",
     "output_type": "stream",
     "text": [
      "[2023-12-02 19:14:37,060: INFO: common: yaml file: config\\config.yaml loaded successfully]\n",
      "[2023-12-02 19:14:37,068: INFO: common: yaml file: params.yaml loaded successfully]\n",
      "[2023-12-02 19:14:37,074: INFO: common: created directory at: artifacts]\n",
      "[2023-12-02 19:14:37,079: INFO: common: created directory at: artifacts/prepare_base_model]\n",
      "[2023-12-02 19:14:37,084: INFO: 546334688: Starting Building Base Model]\n"
     ]
    },
    {
     "name": "stdout",
     "output_type": "stream",
     "text": [
      "7/7 [==============================] - 1s 7ms/step\n",
      "[2023-12-02 19:14:48,557: INFO: 546334688: Optimal Threshold: 1.7165144541480444]\n",
      "[2023-12-02 19:14:48,560: INFO: 546334688: Accuracy: 0.9395348837209302]\n",
      "[2023-12-02 19:14:48,568: INFO: 546334688: Precision: 0.9432624113475178]\n",
      "[2023-12-02 19:14:48,572: INFO: 546334688: Recall: 0.9637681159420289]\n",
      "[2023-12-02 19:14:48,576: INFO: 546334688: F1 Score: 0.9534050179211468]\n",
      "[2023-12-02 19:14:48,586: INFO: 546334688: confusion_matrix: [[ 69   8]\n",
      " [  5 133]]]\n",
      "7/7 [==============================] - 0s 7ms/step\n",
      "[2023-12-02 19:14:49,040: INFO: 546334688: feature_importance_ranking: [17 22 19  7  0  8  4 14 21  5  6 13  1  3 12 16  2 20 10 11  9 15 18]]\n"
     ]
    }
   ],
   "source": [
    "try:\n",
    "    config = ConfigurationManager()\n",
    "    prepare_base_model_config = config.get_prepare_base_model_config()\n",
    "    prepare_base_model = PrepareBaseModel(config=prepare_base_model_config)\n",
    "    prepare_base_model.buiding_base_model()\n",
    "\n",
    "except Exception as e:\n",
    "    raise e\n"
   ]
  },
  {
   "cell_type": "code",
   "execution_count": null,
   "metadata": {},
   "outputs": [],
   "source": []
  },
  {
   "cell_type": "markdown",
   "metadata": {},
   "source": []
  }
 ],
 "metadata": {
  "kernelspec": {
   "display_name": "audio",
   "language": "python",
   "name": "python3"
  },
  "language_info": {
   "codemirror_mode": {
    "name": "ipython",
    "version": 3
   },
   "file_extension": ".py",
   "mimetype": "text/x-python",
   "name": "python",
   "nbconvert_exporter": "python",
   "pygments_lexer": "ipython3",
   "version": "3.8.18"
  },
  "orig_nbformat": 4
 },
 "nbformat": 4,
 "nbformat_minor": 2
}
