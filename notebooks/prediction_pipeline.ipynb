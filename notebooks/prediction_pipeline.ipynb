{
 "cells": [
  {
   "cell_type": "code",
   "execution_count": 1,
   "metadata": {},
   "outputs": [],
   "source": [
    "import os"
   ]
  },
  {
   "cell_type": "code",
   "execution_count": 2,
   "metadata": {},
   "outputs": [
    {
     "data": {
      "text/plain": [
       "'c:\\\\Users\\\\Jaison\\\\Documents\\\\Workspace\\\\Main Projects\\\\Audio-Based-Anomaly-Detection-for-Industrial-Machinery-End-to-End-Project-using-MLflow-DVC\\\\notebooks'"
      ]
     },
     "execution_count": 2,
     "metadata": {},
     "output_type": "execute_result"
    }
   ],
   "source": [
    "%pwd\n"
   ]
  },
  {
   "cell_type": "code",
   "execution_count": 3,
   "metadata": {},
   "outputs": [
    {
     "data": {
      "text/plain": [
       "'c:\\\\Users\\\\Jaison\\\\Documents\\\\Workspace\\\\Main Projects\\\\Audio-Based-Anomaly-Detection-for-Industrial-Machinery-End-to-End-Project-using-MLflow-DVC'"
      ]
     },
     "execution_count": 3,
     "metadata": {},
     "output_type": "execute_result"
    }
   ],
   "source": [
    "os.chdir(\"../\")\n",
    "%pwd"
   ]
  },
  {
   "cell_type": "code",
   "execution_count": 4,
   "metadata": {},
   "outputs": [],
   "source": [
    "import os\n",
    "import joblib\n",
    "import librosa\n",
    "import numpy as np\n",
    "import tensorflow as tf\n",
    "from sklearn.preprocessing import StandardScaler\n",
    "from Anomaly_Detection import logger"
   ]
  },
  {
   "cell_type": "code",
   "execution_count": 5,
   "metadata": {},
   "outputs": [],
   "source": [
    "\n",
    "class AudioPredictionPipeline:\n",
    "    def __init__(self, model_path, top_features_path, scaler_path, feature_names, scores_path):\n",
    "        self.model = tf.keras.models.load_model(model_path)\n",
    "        self.top_features = joblib.load(top_features_path)\n",
    "        self.scaler = joblib.load(scaler_path)\n",
    "        self.scores = joblib.load(scores_path)\n",
    "        \n",
    "        # Create a mapping of feature names to their indices\n",
    "        self.feature_name_to_index = {name: idx for idx, name in enumerate(feature_names)}\n",
    "        # Convert self.top_features to a list of indices\n",
    "        self.top_features_indices = [self.feature_name_to_index[feature] for feature in self.top_features if feature in self.feature_name_to_index]\n",
    "\n",
    "    def extract_mfccs(self,audio, sample_rate, n_mfcc=13):\n",
    "        mfccs = librosa.feature.mfcc(y=audio, sr=sample_rate, n_mfcc=n_mfcc)\n",
    "        mfccs_processed = np.mean(mfccs.T, axis=0)\n",
    "        return mfccs_processed\n",
    "    \n",
    "    def extract_spectral_features(self,audio, sample_rate):\n",
    "        spectral_centroids = librosa.feature.spectral_centroid(y=audio, sr=sample_rate)[0]\n",
    "        spectral_rolloff = librosa.feature.spectral_rolloff(y=audio, sr=sample_rate)[0]\n",
    "        spectral_contrast = librosa.feature.spectral_contrast(y=audio, sr=sample_rate)[0]\n",
    "        return np.mean(spectral_centroids), np.mean(spectral_rolloff), np.mean(spectral_contrast)\n",
    "    \n",
    "    def extract_temporal_features(self,audio):\n",
    "        zero_crossing_rate = librosa.feature.zero_crossing_rate(audio)[0]\n",
    "        autocorrelation = librosa.autocorrelate(audio)\n",
    "        return np.mean(zero_crossing_rate), np.mean(autocorrelation)\n",
    "    \n",
    "    def extract_additional_features(self,audio, sample_rate):\n",
    "        chroma_stft = librosa.feature.chroma_stft(y=audio, sr=sample_rate)\n",
    "        spec_bw = librosa.feature.spectral_bandwidth(y=audio, sr=sample_rate)\n",
    "        spec_flatness = librosa.feature.spectral_flatness(y=audio)\n",
    "        rolloff = librosa.feature.spectral_rolloff(y=audio, sr=sample_rate)\n",
    "        rms = librosa.feature.rms(y=audio)\n",
    "        \n",
    "        return np.mean(chroma_stft), np.mean(spec_bw), np.mean(spec_flatness), np.mean(rolloff), np.mean(rms)\n",
    "    \n",
    "    def extract_all_features(self, audio, sample_rate):\n",
    "    # No need to loop over audio_data, as it's a single sample\n",
    "        mfccs = self.extract_mfccs(audio, sample_rate)\n",
    "        spectral_features = self.extract_spectral_features(audio, sample_rate)\n",
    "        temporal_features = self.extract_temporal_features(audio)\n",
    "        additional_features = self.extract_additional_features(audio, sample_rate)\n",
    "        all_features = np.concatenate([mfccs, spectral_features, temporal_features, additional_features])\n",
    "        return all_features\n",
    "\n",
    "    def preprocess_audio(self, audio_files):\n",
    "        all_preprocessed_data = []\n",
    "\n",
    "        for audio_file in audio_files:\n",
    "            # Load the audio file\n",
    "            audio, sample_rate = librosa.load(audio_file, sr=None)\n",
    "\n",
    "            # Extract features for the current audio file\n",
    "            features = self.extract_all_features(audio, sample_rate)\n",
    "\n",
    "            # Scale the features\n",
    "            scaled_features = self.scaler.transform([features])\n",
    "\n",
    "            # Select only the top features used by the model using indices\n",
    "            selected_features = scaled_features[0, self.top_features_indices]  # Remove the extra dimension\n",
    "\n",
    "            all_preprocessed_data.append(selected_features)\n",
    "\n",
    "        return np.array(all_preprocessed_data)\n",
    "    \n",
    "    def predict(self, audio_files):\n",
    "        threshold = self.scores['Optimal Threshold']\n",
    "\n",
    "        predictions = []\n",
    "        for audio_file in audio_files:\n",
    "            preprocessed_data = self.preprocess_audio([audio_file])  # Process one file at a time\n",
    "\n",
    "            # Get the model's reconstruction of the input\n",
    "            reconstructed_data = self.model.predict(preprocessed_data)\n",
    "\n",
    "            # Calculate the mean squared error between input and reconstruction\n",
    "            mse = np.mean(np.square(preprocessed_data - reconstructed_data), axis=1)\n",
    "\n",
    "            # Classify as abnormal (1) if mse exceeds threshold, else normal (0)\n",
    "            classification = 1 if mse > threshold else 0\n",
    "            predictions.append(classification)\n",
    "\n",
    "        return predictions\n",
    "\n",
    "\n",
    "\n"
   ]
  },
  {
   "cell_type": "code",
   "execution_count": 6,
   "metadata": {},
   "outputs": [],
   "source": [
    "# Paths to the model, top features list, and scaler\n",
    "model_path = 'artifacts/training/Encoder_Model.keras'\n",
    "top_features_path = 'artifacts/training/top_features_list.pkl'\n",
    "scaler_path = 'artifacts/data_transformation/scaler.pkl'  # Replace with the actual path to the scaler\n",
    "scores_path= 'artifacts/evaluation/scores.pkl'\n",
    "#threshold=scores['Optimal Threshold']\n"
   ]
  },
  {
   "cell_type": "code",
   "execution_count": 7,
   "metadata": {},
   "outputs": [],
   "source": [
    "\n",
    "# List of all features\n",
    "all_feature_names = ['MFCC_1','MFCC_2','MFCC_3','MFCC_4','MFCC_5','MFCC_6','MFCC_7','MFCC_8','MFCC_9','MFCC_10','MFCC_11','MFCC_12','MFCC_13','Spectral Centroid','Spectral Rolloff','Spectral Contrast','Zero Crossing Rate','Autocorrelation','Chroma Features','Spectral Bandwidth','Spectral Flatness','Spectral Roll-off Frequency','Root Mean Square Energy']\n",
    "\n",
    "# Create an instance of the prediction pipeline\n",
    "prediction_pipeline = AudioPredictionPipeline(model_path, top_features_path, scaler_path, all_feature_names, scores_path)"
   ]
  },
  {
   "cell_type": "code",
   "execution_count": 10,
   "metadata": {},
   "outputs": [
    {
     "name": "stdout",
     "output_type": "stream",
     "text": [
      "1/1 [==============================] - 0s 118ms/step\n",
      "1/1 [==============================] - 0s 84ms/step\n",
      "1/1 [==============================] - 0s 173ms/step\n",
      "1/1 [==============================] - 0s 136ms/step\n",
      "1/1 [==============================] - 0s 99ms/step\n",
      "Prediction: [1, 1, 1, 0, 0]\n"
     ]
    }
   ],
   "source": [
    "# Example usage\n",
    "audio_files = ['artifacts/data_ingestion/abnormal/00000000.wav', 'artifacts/data_ingestion/abnormal/00000001.wav', 'artifacts/data_ingestion/abnormal/00000002.wav','artifacts/data_ingestion/normal/00000000.wav','artifacts/data_ingestion/normal/00000002.wav']  # List of file paths\n",
    "predictions = prediction_pipeline.predict(audio_files)\n",
    "print(\"Prediction:\", predictions)\n",
    "\n"
   ]
  },
  {
   "cell_type": "code",
   "execution_count": null,
   "metadata": {},
   "outputs": [],
   "source": []
  },
  {
   "cell_type": "code",
   "execution_count": null,
   "metadata": {},
   "outputs": [],
   "source": []
  },
  {
   "cell_type": "code",
   "execution_count": null,
   "metadata": {},
   "outputs": [],
   "source": []
  },
  {
   "cell_type": "code",
   "execution_count": null,
   "metadata": {},
   "outputs": [],
   "source": []
  },
  {
   "cell_type": "code",
   "execution_count": null,
   "metadata": {},
   "outputs": [],
   "source": []
  }
 ],
 "metadata": {
  "kernelspec": {
   "display_name": "audio",
   "language": "python",
   "name": "python3"
  },
  "language_info": {
   "codemirror_mode": {
    "name": "ipython",
    "version": 3
   },
   "file_extension": ".py",
   "mimetype": "text/x-python",
   "name": "python",
   "nbconvert_exporter": "python",
   "pygments_lexer": "ipython3",
   "version": "3.8.18"
  },
  "orig_nbformat": 4
 },
 "nbformat": 4,
 "nbformat_minor": 2
}
